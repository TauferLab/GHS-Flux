{
 "cells": [
  {
   "cell_type": "markdown",
   "metadata": {},
   "source": [
    "# GHS Model\n",
    "\n",
    "This notebook runs the code based upon the model in the paper \"An analytical performance model of generalized hierarchical scheduling\" by Stephen Herbein et. al. available at: https://journals.sagepub.com/doi/pdf/10.1177/10943420211051039 ."
   ]
  },
  {
   "cell_type": "markdown",
   "metadata": {},
   "source": [
    "### Assumptions\n",
    "\n",
    "A1: Job requirements (cores) are fixed over the life cycle of the job \n",
    "\n",
    "(Discussed herein) A2: All jobs submitted at start of workflow \n",
    "\n",
    "A3: All jobs are independent \n",
    "\n",
    "A4: Jobs have homogeneous resource and time requirements \n",
    "\n",
    "A5: Jobs and resources are uniformly distributed at each scheduler tree level \n",
    "\n",
    "A6: Scheduling rate does not vary over workflow lifetime\n"
   ]
  },
  {
   "cell_type": "markdown",
   "metadata": {},
   "source": [
    "### Assumption 2: All jobs submitted at start of workflow\n",
    "\n",
    "#### Scenario A: Baseline model, jobs submitted at start of workflow\n",
    "\n",
    "Notebook showcases behavior of Assumption 2 (All jobs submitted at start of workflow) in the form of [Scenario A], a baseline without present changes. \n",
    "\n",
    "This notebook has an implementation of the breaking, but is configured to act as a baseline. "
   ]
  },
  {
   "cell_type": "markdown",
   "metadata": {},
   "source": [
    "## Discussed Parameters"
   ]
  },
  {
   "cell_type": "markdown",
   "metadata": {},
   "source": [
    "Scenario A -- current configuration \n",
    "* N =  1219 -- total number of jobs for ATS\n",
    "* B = 1 -- total number of batches\n",
    "* b = b1\n",
    "* nb = N -- number of jobs in b1\n",
    "* t = t0  -- before run\n",
    "* ∆t = N/A\n"
   ]
  },
  {
   "cell_type": "markdown",
   "metadata": {},
   "source": [
    "## Notebook Parameters"
   ]
  },
  {
   "cell_type": "markdown",
   "metadata": {},
   "source": [
    "8 nodes\n",
    "40 cores per node\n",
    "\n",
    "topo 1: 320 cores per scheduler\\\n",
    "Maximum overall jobs: 1024\\\n",
    "sleep 0\n",
    "\n",
    "topo 1x8: 40 cores per scheduler \\\n",
    "jobs overall: 1024\\*8 = 4096 \\\n",
    "sleep 0 \n",
    "    \n",
    "topo 1x8x40: 1 core per scheduler \\\n",
    "jobs overall: 1024\\*8\\*40 = 327,680 \\\n",
    "sleep 0 "
   ]
  },
  {
   "cell_type": "code",
   "execution_count": 1,
   "metadata": {},
   "outputs": [],
   "source": [
    "num_nodes = 8 # Number of nodes for workflow\n",
    "global cores_per_node\n",
    "cores_per_node = 40 # Number of cores per node\n",
    "global total_cores\n",
    "total_cores = num_nodes * cores_per_node # Calculates out overall cores automatically\n",
    "global sched_rate\n",
    "sched_rate = 22.3 # Tested throughput of scheduler at steady-state\n",
    "global sched_create_cost\n",
    "sched_create_cost = 3.4 # Tested time necessary to initialize scheduler\n",
    "scenario = [0] # Scenario to run (A=0, B=1, C=2. . .)\n",
    "\n",
    "jobs_per_leaf=1024 # Jobs per leaf scheduler -- assuming jobs are assigned only to leaves\n",
    "\n",
    "# Hierarchy topologies to be tested\n",
    "topologies = [\n",
    "    [1],\n",
    "    [1, 8],\n",
    "    #[1, num_nodes],\n",
    "    [1, 8,8]\n",
    "    #[1, 444, 444],\n",
    "    #[1, num_nodes, cores_per_node],\n",
    "    #[1, 55, 60, 60],\n",
    "]\n",
    "\n",
    "# Plotting Parameters\n",
    "%matplotlib inline\n",
    "LINEWIDTH = 3 # Width of line\n",
    "MARKERSIZE = 10 # Size of markers (relevant for experimental data)\n",
    "TEXTSIZE = \"large\" # Size of text on plot title\n",
    "LEGEND_TEXTSIZE = \"medium\" # Size of text in legend\n",
    "AXIS_LABELSIZE = \"x-large\" # Size of axis labels\n",
    "FIG_HEIGHT = 4.8 # Figure height\n",
    "FIG_WIDTH = 7 # Figure width\n",
    "YLIM = 1000 # Maximum Y value in plot"
   ]
  },
  {
   "cell_type": "markdown",
   "metadata": {},
   "source": [
    "## Setup\n",
    "\n",
    "The following cell performs necessary setup -- imports and function definitions."
   ]
  },
  {
   "cell_type": "code",
   "execution_count": 2,
   "metadata": {},
   "outputs": [],
   "source": [
    "import os\n",
    "import sys\n",
    "import logging\n",
    "from abc import ABC, abstractmethod\n",
    "from typing import SupportsFloat, SupportsInt\n",
    "from sklearn.metrics import r2_score\n",
    "\n",
    "os.environ[\"NUMEXPR_MAX_THREADS\"] = \"16\"\n",
    "import numpy as np\n",
    "import pandas as pd\n",
    "\n",
    "sys.path.append(\"..\")\n",
    "\n",
    "from modules import util\n",
    "from modules.models import model_util\n",
    "from modules.models.model_util import agg_by, trim_max_jobs_per_leaf, get_num_leaves\n",
    "\n",
    "class Model(ABC):\n",
    "    def __init__(self, logger=None):\n",
    "        self.level_one_interp = None\n",
    "        if logger is None:\n",
    "            self.logger = logging.getLogger()\n",
    "        else:\n",
    "            self.logger = logger\n",
    "\n",
    "    @abstractmethod\n",
    "    def get_valid_jobs_per_leaf(self):\n",
    "        pass\n",
    "\n",
    "    @abstractmethod\n",
    "    def get_single_level_predictions(self, num_jobs):\n",
    "        pass\n",
    "\n",
    "    @abstractmethod\n",
    "    def get_job_launch_cost(self, topology, jobs_per_leaf):\n",
    "        pass\n",
    "\n",
    "    @abstractmethod\n",
    "    def get_empty_hierarchy_init_cost(self, topology):\n",
    "        pass\n",
    "    \n",
    "    @abstractmethod\n",
    "    def get_single_scheduler_predictions(self, num_scheds):\n",
    "        pass\n",
    "    \n",
    "    \n",
    "\n",
    "    def get_interpolated_predictions(self, topology):\n",
    "        num_levels = len(topology)\n",
    "        if num_levels not in [1, 2, 3]:\n",
    "            raise NotImplementedError(\"{} levels not implemented\".format(num_levels))\n",
    "        elif num_levels == 1 and self.level_one_interp is not None:\n",
    "            return self.level_one_interp\n",
    "        prediction_df = self.get_predictions(topology)\n",
    "        self.logger.debug(\n",
    "            \"Num-Levels: %d, Prediction DF:\\n%s\", num_levels, prediction_df\n",
    "        )\n",
    "        out_df = self.interpolate(\n",
    "            prediction_df.num_jobs.to_numpy(), prediction_df.makespan.to_numpy()\n",
    "        )\n",
    "        out_df[\"num_levels\"] = len(topology)\n",
    "        if num_levels == 1:\n",
    "            self.level_one_interp = out_df\n",
    "\n",
    "        return out_df\n",
    "\n",
    "    def get_predictions(self, topology):\n",
    "        self.num_levels = len(topology)\n",
    "\n",
    "        jobs_per_leaf = self.get_valid_jobs_per_leaf()\n",
    "        jobs_per_leaf = jobs_per_leaf.unique()\n",
    "        assert len(jobs_per_leaf) > 0\n",
    "\n",
    "        # Case 1: Compute cost for a single scheduler.\n",
    "        if self.num_levels == 1:\n",
    "            num_jobs = jobs_per_leaf\n",
    "            makespans = self.get_single_level_predictions(jobs_per_leaf)\n",
    "            self.logger.debug(\n",
    "                \"Num leaves: %d, Num_jobs: %s, Makespans: %s\", 1, num_jobs, makespans\n",
    "            )\n",
    "        # Case 2: Compute cost for full hierarchy.\n",
    "        else:\n",
    "            num_leaves = get_num_leaves(topology)\n",
    "            # Recall that jobs_per_leaf is a progressive array, so this just handles distribution.\n",
    "            num_jobs = np.array([jpl * num_leaves for jpl in jobs_per_leaf])\n",
    "            self.logger.debug(\n",
    "                \"Num leaves: %d, Num_jobs: %s, Jobsperleaf: %s\",\n",
    "                num_leaves,\n",
    "                num_jobs,\n",
    "                jobs_per_leaf,\n",
    "            )\n",
    "            # This is where the callstack starts for proper computation.\n",
    "            makespans = self.get_multilevel_predictions(topology, jobs_per_leaf)\n",
    "        out_df = pd.DataFrame(data={\"num_jobs\": num_jobs, \"makespan\": makespans})\n",
    "        out_df[\"num_levels\"] = len(topology)\n",
    "        out_df.sort_values(by=\"num_jobs\")\n",
    "        return out_df\n",
    "\n",
    "   \n",
    "    def get_multilevel_predictions(self, topology, jobs_per_leaf: np.ndarray):\n",
    "        if len(topology) < 2:\n",
    "            raise ValueError(\"Must be passed a multi-level topology\")\n",
    "        # Cost calculation contains the equations from the paper.\n",
    "        return [self.calc_cost(topology, jpl) for jpl in jobs_per_leaf]\n",
    "\n",
    "    @staticmethod\n",
    "    def interpolate(num_jobs, makespans):\n",
    "        interp_num_jobs, interp_makespans = interpolate_real_data(\n",
    "            num_jobs, makespans, degree=2\n",
    "        )\n",
    "        return pd.DataFrame(\n",
    "            data={\n",
    "                \"num_jobs\": interp_num_jobs,\n",
    "                \"makespan\": interp_makespans,\n",
    "                \"throughput\": interp_num_jobs / interp_makespans,\n",
    "            }\n",
    "        )\n",
    "\n",
    "    def calc_cost(self, topology, jobs_per_leaf: np.int32):\n",
    "        # Correlates to Create(Tree)\n",
    "        cost_to_launch_hierarchy = self.get_empty_hierarchy_init_cost(topology)\n",
    "        # Only have to consider the cost at the last leaf (it is the straggler/on the critical path)\n",
    "        # Equation 1 in paper\n",
    "        cost_to_launch_jobs = self.get_job_launch_cost(topology, jobs_per_leaf)\n",
    "        # Equation 6 in paper\n",
    "        total_cost = cost_to_launch_hierarchy + cost_to_launch_jobs\n",
    "        self.logger.log(\n",
    "            9,\n",
    "            \"Level-{}, jobsperleaf: {:4d}, hierarchy_launch: {:4.1f}, job_launch: {:7.1f}, total: {:7.1f}\".format(\n",
    "                len(topology),\n",
    "                jobs_per_leaf,\n",
    "                cost_to_launch_hierarchy,\n",
    "                cost_to_launch_jobs,\n",
    "                total_cost,\n",
    "            ),\n",
    "        )\n",
    "        return total_cost\n",
    "\n",
    "    @abstractmethod\n",
    "    def calc_model_cost(self):\n",
    "        pass\n",
    "    \n",
    "\n",
    "\n",
    "class AnalyticalModel(Model):\n",
    "    def __init__(\n",
    "        self,\n",
    "        sched_rate: SupportsFloat,\n",
    "        sched_create_cost: SupportsFloat,\n",
    "        resource_cap: SupportsFloat,\n",
    "        max_jobs_per_leaf: SupportsInt,\n",
    "        logger=None,\n",
    "    ):\n",
    "        \"\"\"\n",
    "        sched_rate is the maximum throughput, in jobs per second, that a given\n",
    "        scheduler implementation can achieve on a resource unconstrained system.\n",
    "        resource_cap is the maximum number of jobs that can be running\n",
    "        simultaneously due to resource capacity constraints\n",
    "        \"\"\"\n",
    "        super().__init__(logger=logger)\n",
    "        self.sched_rate = float(sched_rate)\n",
    "        self.sched_create_cost = float(sched_create_cost)\n",
    "        self.resource_cap = float(resource_cap)\n",
    "        self.max_jobs_per_leaf = int(max_jobs_per_leaf)\n",
    "\n",
    "    @abstractmethod\n",
    "    def get_single_level_predictions(self, num_jobs: np.ndarray, resource_cap=None, runtime=None):\n",
    "        pass\n",
    "    \n",
    "    @abstractmethod\n",
    "    def get_single_scheduler_predictions(self, num_scheds: np.ndarray, resource_cap=None, runtime=None):\n",
    "        pass\n",
    "\n",
    "    @abstractmethod\n",
    "    def calc_model_cost(self):\n",
    "        pass\n",
    "\n",
    "    def get_valid_jobs_per_leaf(self):\n",
    "        return pd.Series(data=np.arange(1, self.max_jobs_per_leaf + 1, dtype=np.int32))\n",
    "\n",
    "    def get_interpolated_predictions(self, topology):\n",
    "        # No need for interpolation with this inexpensive analytical model\n",
    "        pred_df = self.get_predictions(topology)\n",
    "        pred_df[\"throughput\"] = pred_df.num_jobs / pred_df.makespan\n",
    "        return pred_df\n",
    "\n",
    "    # Works towards filling out equation 1 from paper\n",
    "    def get_job_launch_cost(self, topology, jobs_per_leaf: pd.Series):\n",
    "        num_leaves = get_num_leaves(topology)\n",
    "        return self.get_single_level_predictions(\n",
    "            np.array([jobs_per_leaf]), resource_cap=self.resource_cap / num_leaves\n",
    "        )[0]\n",
    "\n",
    "     # Finds the cost for tree creation.\n",
    "     # Equation 3 in paper\n",
    "    def get_empty_hierarchy_init_cost(self, topology):\n",
    "        if len(topology) == 0:\n",
    "            return 0\n",
    "        return self.get_single_scheduler_predictions(np.array([topology[-1]]), runtime=0)[\n",
    "            0\n",
    "        ] + self.get_empty_hierarchy_init_cost(topology[:-1])\n",
    "    \n"
   ]
  },
  {
   "cell_type": "markdown",
   "metadata": {},
   "source": [
    "## Setup -- Scenario A Implementation\n",
    "\n",
    "The following cell contains the calculation of a single scheduler's performance, and, thus, is placed aside, as an important focus of this work."
   ]
  },
  {
   "cell_type": "code",
   "execution_count": 4,
   "metadata": {},
   "outputs": [],
   "source": [
    "class AnalyticalModelContentedRuntime(AnalyticalModel):\n",
    "    def __init__(\n",
    "        self,\n",
    "        sched_rate: SupportsFloat,\n",
    "        sched_create_cost: SupportsFloat,\n",
    "        resource_cap: SupportsFloat,\n",
    "        avg_runtime_func,\n",
    "        cores_per_node,\n",
    "        max_jobs_per_leaf=1024,\n",
    "        logger=None\n",
    "    ):\n",
    "        \"\"\"\n",
    "        sched_rate is the maximum throughput, in jobs per second, that a given\n",
    "        scheduler implementation can achieve on a resource unconstrained system.\n",
    "        resource_cap is the maximum number of jobs that can be running\n",
    "        simultaneously due to resource capacity constraints\n",
    "        \"\"\"\n",
    "        super().__init__(sched_rate, sched_create_cost, resource_cap, max_jobs_per_leaf, logger=logger)\n",
    "\n",
    "        self.get_avg_runtime = avg_runtime_func\n",
    "        self.cores_per_node = cores_per_node\n",
    "\n",
    "    # Calculates equation 1 in paper.\n",
    "    def get_single_level_predictions(self, num_jobs: np.ndarray, resource_cap=None, runtime=None):\n",
    "        if resource_cap is None:\n",
    "            resource_cap = self.resource_cap  # assume we are using the whole system\n",
    "        if runtime is None:\n",
    "            runtime = self.get_avg_runtime(num_jobs, resource_cap)\n",
    "        # First draft of breaking assumption 2: Modifying sched rate to match \n",
    "        # the slowdown of waiting incessantly. \n",
    "        local_sched_rate = self.sched_rate\n",
    "        sched_bottleneck = num_jobs / local_sched_rate\n",
    "        resource_bottleneck = (\n",
    "            num_jobs * runtime\n",
    "        ) / num_jobs.clip(\n",
    "            max=resource_cap\n",
    "        )  # clip(max=X) sets all values greater than X to X.  equivalent to .apply(lambda x: min(x, X))\n",
    "            \n",
    "        true_bottleneck = np.maximum(sched_bottleneck, resource_bottleneck)\n",
    "        init_cost = self.sched_create_cost\n",
    "        return true_bottleneck + init_cost\n",
    "    \n",
    "    # Calculates equation 1 in paper, without wait influencing.\n",
    "    def get_single_scheduler_predictions(self, num_jobs: np.ndarray, resource_cap=None, runtime=None):\n",
    "        if resource_cap is None:\n",
    "            resource_cap = self.resource_cap  # assume we are using the whole system\n",
    "        if runtime is None:\n",
    "            runtime = self.get_avg_runtime(num_jobs, resource_cap)\n",
    "        sched_bottleneck = num_jobs / self.sched_rate\n",
    "        resource_bottleneck = (\n",
    "            num_jobs * runtime\n",
    "        ) / num_jobs.clip(\n",
    "            max=resource_cap\n",
    "        )  # clip(max=X) sets all values greater than X to X.  equivalent to .apply(lambda x: min(x, X))\n",
    "        true_bottleneck = np.maximum(sched_bottleneck, resource_bottleneck)\n",
    "        init_cost = self.sched_create_cost\n",
    "        return true_bottleneck + init_cost\n",
    "\n",
    "    def calc_model_cost(self):\n",
    "        num_waves = 3\n",
    "        contention_test = (\n",
    "            self.get_avg_runtime(self.cores_per_node * num_waves, self.cores_per_node)\n",
    "            * num_waves\n",
    "        )\n",
    "        return (contention_test, contention_test)"
   ]
  },
  {
   "cell_type": "code",
   "execution_count": 5,
   "metadata": {},
   "outputs": [],
   "source": [
    "from __future__ import print_function\n",
    "\n",
    "import os\n",
    "import argparse\n",
    "import logging\n",
    "import functools\n",
    "import itertools\n",
    "import multiprocessing as mp\n",
    "import sys\n",
    "\n",
    "os.environ[\"NUMEXPR_MAX_THREADS\"] = \"16\"\n",
    "import numpy as np\n",
    "import pandas as pd\n",
    "\n",
    "\n",
    "\n",
    "\n",
    "def create_model(unique_id, scenario):\n",
    "    return AnalyticalModelContentedRuntime(\n",
    "        sched_rate=sched_rate,\n",
    "        sched_create_cost=sched_create_cost,\n",
    "        resource_cap=total_cores,\n",
    "        avg_runtime_func=functools.partial(model_util.get_avg_runtime, unique_id, system=\"lassen\"),\n",
    "        cores_per_node=cores_per_node,\n",
    "        max_jobs_per_leaf=jobs_per_leaf,\n",
    "        logger=logger\n",
    "    )\n",
    "\n",
    "def gen_df(topology, unique_id, scenario):\n",
    "    analyticalWithContention_model = create_model(unique_id, scenario)\n",
    "    df = analyticalWithContention_model.get_interpolated_predictions(topology)\n",
    "    df[\"unique_id\"] = unique_id\n",
    "    df[\"topology\"] = \"x\".join([str(x) for x in topology])\n",
    "    df[\"throughput_upperbound\"] = df[\"num_jobs\"].apply(\n",
    "        lambda x: model_util.calc_upperbound(unique_id, x, total_cores)\n",
    "    )\n",
    "    return df\n",
    "\n",
    "\n",
    "def parallel_gen_df(tupl):\n",
    "    return gen_df(*tupl)\n",
    "\n",
    "\n",
    "\n",
    "\n"
   ]
  },
  {
   "cell_type": "markdown",
   "metadata": {},
   "source": [
    "## Running Model\n",
    "\n",
    "The following cell runs the model, currently requires user-editing of values. Will switch to ipywidget."
   ]
  },
  {
   "cell_type": "code",
   "execution_count": 6,
   "metadata": {
    "scrolled": true
   },
   "outputs": [
    {
     "name": "stderr",
     "output_type": "stream",
     "text": [
      "INFO:model_scale_study:Topology [1] is predicted to take 3.444843 seconds to create\n",
      "INFO:model_scale_study:Topology [1, 8] is predicted to take 7.203587 seconds to create\n",
      "INFO:model_scale_study:Topology [1, 8, 8] is predicted to take 10.962332 seconds to create\n"
     ]
    }
   ],
   "source": [
    "logging.basicConfig(level=logging.INFO)\n",
    "logger = logging.getLogger(\"model_scale_study\")\n",
    "\n",
    "unique_ids = [\"sleep0\"]\n",
    "func_args = itertools.product(topologies, unique_ids, scenario)\n",
    "with mp.Pool() as pool:\n",
    "    dfs = pool.map(parallel_gen_df, func_args)\n",
    "\n",
    "model = create_model(\"sleep5\", 1)\n",
    "for topology in topologies:\n",
    "    create_time = model.get_empty_hierarchy_init_cost(topology)\n",
    "    logger.info(\"Topology %s is predicted to take %f seconds to create\", topology, create_time)\n",
    "\n",
    "scen_a_df = pd.concat(dfs, sort=True)\n",
    "scen_a_df[\"model_type\"] = \"analyticalWithContention\"\n",
    "util.pretty_log_df(scen_a_df, \"Final DataFrame\", logger)\n",
    "#print(new_model_df)\n",
    "\n",
    "#logger.info(\"Saving data to {}\".format(\"assump2_mod_sched_notebook_decaying_correction.pkl\"))\n",
    "#new_model_df.to_pickle(\"assump2_mod_sched_notebook_decaying_correction.pkl\")\n",
    "\n",
    "\n"
   ]
  },
  {
   "cell_type": "markdown",
   "metadata": {},
   "source": [
    "## Plotting Model - Setup\n",
    "\n",
    "The following cell performs necessary imports and function definitions to plot model output."
   ]
  },
  {
   "cell_type": "code",
   "execution_count": 5,
   "metadata": {},
   "outputs": [],
   "source": [
    "from __future__ import print_function\n",
    "\n",
    "import re\n",
    "import os\n",
    "import json\n",
    "import math\n",
    "import argparse\n",
    "import itertools\n",
    "import logging\n",
    "import sys\n",
    "from datetime import timedelta\n",
    "import glob\n",
    "\n",
    "import matplotlib\n",
    "\n",
    "matplotlib.use(\"Agg\")\n",
    "import matplotlib.pyplot as plt\n",
    "import matplotlib.ticker\n",
    "import numpy as np\n",
    "import pandas as pd\n",
    "import six.moves\n",
    "from experiment_analysis import ExperimentData\n",
    "from scipy import stats\n",
    "\n",
    "sys.path.append(\"..\")\n",
    "\n",
    "from modules import util\n",
    "\n",
    "\n",
    "def add_suffix_to_label(label, base=2):\n",
    "    if base == 2:\n",
    "        divisor = 1024\n",
    "    elif base == 10:\n",
    "        divisor = 1000\n",
    "    else:\n",
    "        raise NotImplementedError()\n",
    "\n",
    "    if label < 1000:\n",
    "        return label\n",
    "    elif label < 1_000_000:\n",
    "        return \"{:d}K\".format(int(label // divisor))\n",
    "    elif label < 1_000_000_000:\n",
    "        return \"{:d}M\".format(int(label // math.pow(divisor, 2)))\n",
    "    elif label < 1_000_000_000_000:\n",
    "        return \"{:d}B\".format(int(label // math.pow(divisor, 3)))\n",
    "    else:\n",
    "        raise NotImplementedError()\n",
    "\n",
    "\n",
    "def setup_fig(fig, ax, no_yaxis=False):\n",
    "    global YLIM\n",
    "    ax.set_xscale(\"log\", basex=2)\n",
    "    ax.set_yscale(\"log\")\n",
    "    xtick_locs = [int(math.pow(4, x)) for x in range(0, 18)]\n",
    "    plt.xticks(\n",
    "        xtick_locs,\n",
    "        [add_suffix_to_label(tick) for tick in xtick_locs],\n",
    "        rotation=\"vertical\",\n",
    "        fontsize=TEXTSIZE,\n",
    "    )\n",
    "    ytick_locs = [0] + [int(math.pow(10, x)) for x in range(0, 7)]\n",
    "    plt.yticks(\n",
    "        ytick_locs,\n",
    "        [add_suffix_to_label(tick, 10) for tick in ytick_locs],\n",
    "        rotation=\"horizontal\",\n",
    "        fontsize=TEXTSIZE,\n",
    "    )\n",
    "\n",
    "    #ax.set_xlim(0.8, 1048576 * 1.2)\n",
    "    ax.set_xlim(0.8, 4500 * 44 * 32768 * 1.4)\n",
    "    ax.set_ylim(0.1, YLIM)\n",
    "    ax.grid(axis=\"y\", which=\"major\", color=\"black\")\n",
    "    #ax.yaxis.set_major_formatter(matplotlib.ticker.ScalarFormatter())\n",
    "    locmin = matplotlib.ticker.LogLocator(\n",
    "        base=10.0, subs=np.arange(2, 10) * 0.1, numticks=40\n",
    "    )\n",
    "    ax.yaxis.set_minor_locator(locmin)\n",
    "    ax.yaxis.set_minor_formatter(matplotlib.ticker.NullFormatter())\n",
    "    ax.set_xlabel(\"Number of jobs (total)\", fontweight=\"bold\", fontsize=AXIS_LABELSIZE)\n",
    "    ax.set_ylabel(\n",
    "        \"Avg. Throughput (jobs/sec)\", fontweight=\"bold\", fontsize=AXIS_LABELSIZE\n",
    "    )\n",
    "    ax.tick_params(axis=\"y\", which=\"minor\", left=True, top=True)\n",
    "\n",
    "def log_range(range_min, range_max, base=2):\n",
    "    return itertools.takewhile(\n",
    "        lambda x: x <= range_max,\n",
    "        [\n",
    "            math.pow(base, x)\n",
    "            for x in six.moves.range(\n",
    "                int(math.floor(math.log(range_min, base))),\n",
    "                int(math.ceil(math.log(range_max, base)) + 1),\n",
    "            )\n",
    "        ],\n",
    "    )\n",
    "\n",
    "\n",
    "def read_experiment(dirname, topos):\n",
    "    datas = []\n",
    "    counter = 0\n",
    "    for topo in topos:\n",
    "        dirs = glob.glob(dirname.format(topo))\n",
    "        datas.append([])\n",
    "        for dir in dirs:\n",
    "            datas[counter].append([ExperimentData(\"{}/out/{}\".format(dir, i)) for i in range(0,3)])\n",
    "        counter += 1\n",
    "    for dataset in datas:\n",
    "        dataset.sort(key=lambda data: sum(data[0].total_jobs().values()))\n",
    "    return datas\n",
    "\n",
    "def calc_R2(model_df, level, exp_x, exp_y):\n",
    "    R2_df = model_df\n",
    "    R2_df = R2_df.loc[R2_df['num_jobs'].isin(exp_x)]\n",
    "    R2_df = R2_df.loc[R2_df['num_levels'] == level]\n",
    "    comp = R2_df['throughput']\n",
    "    print(r2_score(exp_y, list(comp)), \"Topology \", level)\n",
    "\n",
    "def plot_model(model_df, ax, topos, unique_id):\n",
    "    legend_handles = []\n",
    "    model_df = model_df.sort_values(by=[\"num_jobs\"])\n",
    "    label = \"throughput\"\n",
    "\n",
    "    level_color_map = {\n",
    "        1: \"red\",\n",
    "        2: \"blue\",\n",
    "        3: \"green\",\n",
    "        4: \"orange\",\n",
    "    }\n",
    "    # for level, color_char, line_label in [\n",
    "    #     (1, \"r\", \"1-Level\"),\n",
    "    #     (2, \"b\", \"2-Level\"),\n",
    "    #     (3, \"g\", \"3-Level\"),\n",
    "    # ]:\n",
    "    def get_num_levels(topology):\n",
    "        return len(topology.split('x'))\n",
    "\n",
    "    def get_topology_order(topology):\n",
    "        topo = [int(x) for x in topology.split('x')]\n",
    "        num_levels = len(topo)\n",
    "        if num_levels == 1:\n",
    "            return (1, 1)\n",
    "        if topo[1] == 32:\n",
    "            return (1, num_levels)\n",
    "        return (2, num_levels)\n",
    "\n",
    "    datas = read_experiment(\"/g/g16/suarez29/work/Project_LLNL_ClarkSebastian/ats-experiments/output/ass2_ScenA/topo{}/*\", topos)\n",
    "    counter = 0\n",
    "    for dataset in datas:\n",
    "        xs = []\n",
    "        ys = []\n",
    "        linestyle = \"-\"\n",
    "        color = level_color_map[counter+1]\n",
    "        for entry in dataset:\n",
    "            xs.append(sum(entry[0].total_jobs().values()))\n",
    "            ys.append(entry[0].total_job_throughput())\n",
    "        line_2d = ax.plot(xs, ys, color=color, linewidth=0, label=\"Experimental {}\".format(topos[counter]), marker=\"D\", markersize=2)\n",
    "        assert len(line_2d) == 1\n",
    "        calc_R2(model_df, counter+1, xs, ys)\n",
    "        legend_handles.append(line_2d.pop())\n",
    "        counter += 1\n",
    "    \n",
    "    for topology in sorted(model_df['topology'].unique(), key=get_topology_order):\n",
    "        level_df = model_df[model_df.topology == topology]\n",
    "        num_levels = get_num_levels(topology)\n",
    "        if num_levels == 1 or int(topology.split('x')[1]) == 32:\n",
    "            linestyle = \"solid\"\n",
    "        else:\n",
    "            linestyle = \"solid\"\n",
    "        color = level_color_map[num_levels]\n",
    "        Xs = level_df[\"num_jobs\"]\n",
    "        Ys = level_df[label]\n",
    "        line_2d = ax.plot(Xs, Ys, color=color, linestyle=linestyle, label=topology)\n",
    "        assert len(line_2d) == 1\n",
    "        legend_handles.append(line_2d.pop())\n",
    "\n",
    "\n",
    "    return legend_handles"
   ]
  },
  {
   "cell_type": "markdown",
   "metadata": {},
   "source": [
    "## Plotting Model - Run\n",
    "\n",
    "The following cell runs plotting code for the model. Note that it does not currently take into account experimental data."
   ]
  },
  {
   "cell_type": "code",
   "execution_count": 8,
   "metadata": {
    "scrolled": true
   },
   "outputs": [],
   "source": [
    "logging.basicConfig(level=logging.INFO)\n",
    "logger = logging.getLogger(\"plot_model_scale_study\")\n",
    "def plot_df(df, figtitle, topos, to_pdf=None):\n",
    "    \n",
    "\n",
    "    #scale_up_df = pd.read_pickle(\"assump2_mod_sched_notebook_decaying_correction.pkl\")\n",
    "    scale_up_df = df\n",
    "    assert len(scale_up_df) > 0\n",
    "\n",
    "    for idx, unique_id in enumerate(scale_up_df['unique_id'].unique()):\n",
    "        app_model_df = scale_up_df[scale_up_df.unique_id == unique_id]\n",
    "\n",
    "        fig, ax = plt.subplots(figsize=(FIG_WIDTH, FIG_HEIGHT))\n",
    "        setup_fig(fig, ax, no_yaxis=(idx > 0))\n",
    "\n",
    "        legend_handles = plot_model(app_model_df, ax, topos, unique_id)\n",
    "\n",
    "        loc = \"upper right\"\n",
    "        legend = plt.legend(\n",
    "            handles=legend_handles,\n",
    "            loc=loc,\n",
    "            title=\"Tree:\",\n",
    "            frameon=True,\n",
    "            framealpha=1,\n",
    "            title_fontsize=LEGEND_TEXTSIZE,\n",
    "            prop={\"size\": LEGEND_TEXTSIZE},\n",
    "        )\n",
    "        legend.get_title().set_weight(\"bold\")\n",
    "\n",
    "        #if args.nofig:\n",
    "        #    pass\n",
    "        #elif args.savefig is not None:\n",
    "        #    plt.tight_layout()\n",
    "        #    filename = \"{0}_scale_up.pdf\".format(unique_id)\n",
    "        #    logger.info(\"Saving to %s\", filename)\n",
    "        #    plt.savefig(filename, bbox_inches=\"tight\")\n",
    "        #else:\n",
    "        if to_pdf is None:\n",
    "            plt.title(figtitle)\n",
    "            plt.show()\n",
    "        else:\n",
    "            plt.title(figtitle)\n",
    "            plt.tight_layout()\n",
    "            filename = to_pdf\n",
    "            logger.info(\"Saving to %s\", to_pdf)\n",
    "            plt.savefig(to_pdf, bbox_inches=\"tight\")"
   ]
  },
  {
   "cell_type": "code",
   "execution_count": 9,
   "metadata": {},
   "outputs": [
    {
     "name": "stderr",
     "output_type": "stream",
     "text": [
      "<ipython-input-7-54484be3b09c>:52: MatplotlibDeprecationWarning: The 'basex' parameter of __init__() has been renamed 'base' since Matplotlib 3.3; support for the old name will be dropped two minor releases later.\n",
      "  ax.set_xscale(\"log\", basex=2)\n"
     ]
    },
    {
     "name": "stdout",
     "output_type": "stream",
     "text": [
      "0.8513668585575719 Topology  1\n",
      "0.8460885041408213 Topology  2\n",
      "0.9716895068636849 Topology  3\n"
     ]
    },
    {
     "data": {
      "image/png": "[encoded data removed]",
      "text/plain": [
       "<Figure size 504x345.6 with 1 Axes>"
      ]
     },
     "metadata": {
      "needs_background": "light"
     },
     "output_type": "display_data"
    }
   ],
   "source": [
    "%matplotlib inline\n",
    "plot_df(scen_a_df, \"Assumption 2, Scenario A\", [\"1\", \"1x8\", \"1x8x8\"])\n",
    "\n",
    "# No waits, no batches -- jobs all submitted at start of workflow, up to 1024 per leaf. "
   ]
  },
  {
   "cell_type": "code",
   "execution_count": 8,
   "metadata": {},
   "outputs": [
    {
     "name": "stdout",
     "output_type": "stream",
     "text": [
      "0.8513668585575719 Topology  1\n",
      "0.8460885041408213 Topology  2\n",
      "0.9716895068636849 Topology  3\n"
     ]
    },
    {
     "data": {
      "image/png": "[encoded data removed]",
      "text/plain": [
       "<Figure size 504x345.6 with 1 Axes>"
      ]
     },
     "metadata": {
      "needs_background": "light"
     },
     "output_type": "display_data"
    }
   ],
   "source": [
    "%matplotlib inline\n",
    "plot_df(scen_a_df, \"Assumption 2, Scenario A\")\n",
    "\n",
    "# No waits, no batches -- jobs all submitted at start of workflow, up to 1024 per leaf. "
   ]
  },
  {
   "cell_type": "code",
   "execution_count": 11,
   "metadata": {},
   "outputs": [],
   "source": [
    "dirs = glob.glob(\"/g/g16/suarez29/work/Project_LLNL_ClarkSebastian/ats-experiments/output/param_sweep_lassen_test/*\")"
   ]
  },
  {
   "cell_type": "code",
   "execution_count": 12,
   "metadata": {},
   "outputs": [
    {
     "name": "stdout",
     "output_type": "stream",
     "text": [
      "['/g/g16/suarez29/work/Project_LLNL_ClarkSebastian/ats-experiments/output/param_sweep_lassen_test/topo1', '/g/g16/suarez29/work/Project_LLNL_ClarkSebastian/ats-experiments/output/param_sweep_lassen_test/topo1x8', '/g/g16/suarez29/work/Project_LLNL_ClarkSebastian/ats-experiments/output/param_sweep_lassen_test/topo1x8x8']\n"
     ]
    }
   ],
   "source": [
    "print(dirs)"
   ]
  },
  {
   "cell_type": "code",
   "execution_count": 18,
   "metadata": {
    "scrolled": true
   },
   "outputs": [
    {
     "name": "stdout",
     "output_type": "stream",
     "text": [
      "['/g/g16/suarez29/work/Project_LLNL_ClarkSebastian/ats-experiments/output/param_sweep_lassen_test/topo1/lassen-8nodes-320cores-topo1-vary-none-dist-rr-unshuffled-sync-batch-8-wait-0-joblen-0', '/g/g16/suarez29/work/Project_LLNL_ClarkSebastian/ats-experiments/output/param_sweep_lassen_test/topo1/lassen-8nodes-320cores-topo1-vary-none-dist-rr-unshuffled-sync-batch-8-wait-0-joblen-5', '/g/g16/suarez29/work/Project_LLNL_ClarkSebastian/ats-experiments/output/param_sweep_lassen_test/topo1/lassen-8nodes-320cores-topo1-vary-none-dist-rr-unshuffled-sync-batch-8-wait-5-joblen-0', '/g/g16/suarez29/work/Project_LLNL_ClarkSebastian/ats-experiments/output/param_sweep_lassen_test/topo1/lassen-8nodes-320cores-topo1-vary-none-dist-rr-unshuffled-sync-batch-8-wait-5-joblen-5', '/g/g16/suarez29/work/Project_LLNL_ClarkSebastian/ats-experiments/output/param_sweep_lassen_test/topo1/lassen-8nodes-320cores-topo1-vary-none-dist-rr-unshuffled-sync-batch-16-wait-0-joblen-0', '/g/g16/suarez29/work/Project_LLNL_ClarkSebastian/ats-experiments/output/param_sweep_lassen_test/topo1/lassen-8nodes-320cores-topo1-vary-none-dist-rr-unshuffled-sync-batch-16-wait-0-joblen-5', '/g/g16/suarez29/work/Project_LLNL_ClarkSebastian/ats-experiments/output/param_sweep_lassen_test/topo1/lassen-8nodes-320cores-topo1-vary-none-dist-rr-unshuffled-sync-batch-16-wait-5-joblen-0', '/g/g16/suarez29/work/Project_LLNL_ClarkSebastian/ats-experiments/output/param_sweep_lassen_test/topo1/lassen-8nodes-320cores-topo1-vary-none-dist-rr-unshuffled-sync-batch-16-wait-5-joblen-5']\n",
      "[[8, 320, 1, '8', '0', '0', <experiment_analysis.ExperimentData object at 0x20002af1f8d0>], [8, 320, 1, '8', '0', '5', <experiment_analysis.ExperimentData object at 0x20002af1fa20>], [8, 320, 1, '8', '5', '0', <experiment_analysis.ExperimentData object at 0x20002af1fbe0>], [8, 320, 1, '8', '5', '5', <experiment_analysis.ExperimentData object at 0x20002af1ffd0>], [8, 320, 1, '16', '0', '0', <experiment_analysis.ExperimentData object at 0x20003b4db588>], [8, 320, 1, '16', '0', '5', <experiment_analysis.ExperimentData object at 0x20003b4db898>], [8, 320, 1, '16', '5', '0', <experiment_analysis.ExperimentData object at 0x20003b4dbd68>], [8, 320, 1, '16', '5', '5', <experiment_analysis.ExperimentData object at 0x20003b441390>]]\n",
      "   nodes  cores  topo batch_size wait joblen  \\\n",
      "0      8    320     1          8    0      0   \n",
      "1      8    320     1          8    0      5   \n",
      "2      8    320     1          8    5      0   \n",
      "3      8    320     1          8    5      5   \n",
      "4      8    320     1         16    0      0   \n",
      "5      8    320     1         16    0      5   \n",
      "6      8    320     1         16    5      0   \n",
      "7      8    320     1         16    5      5   \n",
      "\n",
      "                                                data  \n",
      "0  <experiment_analysis.ExperimentData object at ...  \n",
      "1  <experiment_analysis.ExperimentData object at ...  \n",
      "2  <experiment_analysis.ExperimentData object at ...  \n",
      "3  <experiment_analysis.ExperimentData object at ...  \n",
      "4  <experiment_analysis.ExperimentData object at ...  \n",
      "5  <experiment_analysis.ExperimentData object at ...  \n",
      "6  <experiment_analysis.ExperimentData object at ...  \n",
      "7  <experiment_analysis.ExperimentData object at ...  \n"
     ]
    },
    {
     "data": {
      "text/plain": [
       "[[8,\n",
       "  320,\n",
       "  1,\n",
       "  '8',\n",
       "  '0',\n",
       "  '0',\n",
       "  <experiment_analysis.ExperimentData at 0x20002af1f8d0>],\n",
       " [8,\n",
       "  320,\n",
       "  1,\n",
       "  '8',\n",
       "  '0',\n",
       "  '5',\n",
       "  <experiment_analysis.ExperimentData at 0x20002af1fa20>],\n",
       " [8,\n",
       "  320,\n",
       "  1,\n",
       "  '8',\n",
       "  '5',\n",
       "  '0',\n",
       "  <experiment_analysis.ExperimentData at 0x20002af1fbe0>],\n",
       " [8,\n",
       "  320,\n",
       "  1,\n",
       "  '8',\n",
       "  '5',\n",
       "  '5',\n",
       "  <experiment_analysis.ExperimentData at 0x20002af1ffd0>],\n",
       " [8,\n",
       "  320,\n",
       "  1,\n",
       "  '16',\n",
       "  '0',\n",
       "  '0',\n",
       "  <experiment_analysis.ExperimentData at 0x20003b4db588>],\n",
       " [8,\n",
       "  320,\n",
       "  1,\n",
       "  '16',\n",
       "  '0',\n",
       "  '5',\n",
       "  <experiment_analysis.ExperimentData at 0x20003b4db898>],\n",
       " [8,\n",
       "  320,\n",
       "  1,\n",
       "  '16',\n",
       "  '5',\n",
       "  '0',\n",
       "  <experiment_analysis.ExperimentData at 0x20003b4dbd68>],\n",
       " [8,\n",
       "  320,\n",
       "  1,\n",
       "  '16',\n",
       "  '5',\n",
       "  '5',\n",
       "  <experiment_analysis.ExperimentData at 0x20003b441390>]]"
      ]
     },
     "execution_count": 18,
     "metadata": {},
     "output_type": "execute_result"
    }
   ],
   "source": [
    "import re\n",
    "\n",
    "def read_experiment(dirname, exp_num):\n",
    "    experiment_dir = dirname.split('/')[-1]\n",
    "    props = experiment_dir.split('-')\n",
    "    experiment = [None, None, None, None, None, None, None]\n",
    "    experiment[0] = int(re.findall(r'\\d+', props[1])[0])\n",
    "    experiment[1] = int(re.findall(r'\\d+', props[2])[0])\n",
    "    experiment[2] = int(re.findall(r'\\d+', props[3])[0])\n",
    "    experiment[3] = props[11]\n",
    "    experiment[4] = props[13]\n",
    "    experiment[5] = props[15]\n",
    "    experiment[6] = ExperimentData(\"{}/out/{}\".format(dirname, exp_num))\n",
    "    return experiment\n",
    "\n",
    "    \n",
    "    \n",
    "\n",
    "def read_experiment_dir(dirname, topos):\n",
    "    datas = []\n",
    "    counter = 0\n",
    "    for topo in topos:\n",
    "        dirs = glob.glob(dirname + topo + \"/*\")\n",
    "        print(dirs)\n",
    "        for dir in dirs:\n",
    "            datas.append(read_experiment(dir, 0))\n",
    "            pass\n",
    "        \n",
    "            \n",
    "        counter += 1\n",
    "    print(datas)\n",
    "    print(pd.DataFrame(datas,columns=[\"nodes\", \"cores\", \"topo\", \"batch_size\", \"wait\", \"joblen\", \"data\"]))\n",
    "    #for dataset in datas:\n",
    "    #    dataset.sort(key=lambda data: sum(data[0].total_jobs().values()))\n",
    "    return datas\n",
    "\n",
    "read_experiment_dir(\"/g/g16/suarez29/work/Project_LLNL_ClarkSebastian/ats-experiments/output/param_sweep_lassen_test/\", [\"topo1\"])"
   ]
  },
  {
   "cell_type": "code",
   "execution_count": 7,
   "metadata": {},
   "outputs": [],
   "source": [
    "practice = '/g/g16/suarez29/work/Project_LLNL_ClarkSebastian/ats-experiments/output/param_sweep_lassen_test/topo1/lassen-8nodes-320cores-topo1-vary-none-dist-rr-unshuffled-sync-batch-8-wait-0-joblen-0'"
   ]
  },
  {
   "cell_type": "code",
   "execution_count": 8,
   "metadata": {},
   "outputs": [
    {
     "name": "stdout",
     "output_type": "stream",
     "text": [
      "['', 'g', 'g16', 'suarez29', 'work', 'Project_LLNL_ClarkSebastian', 'ats-experiments', 'output', 'param_sweep_lassen_test', 'topo1', 'lassen-8nodes-320cores-topo1-vary-none-dist-rr-unshuffled-sync-batch-8-wait-0-joblen-0']\n"
     ]
    }
   ],
   "source": [
    "print(practice.split('/'))"
   ]
  },
  {
   "cell_type": "code",
   "execution_count": 10,
   "metadata": {},
   "outputs": [
    {
     "name": "stdout",
     "output_type": "stream",
     "text": [
      "['lassen', '8nodes', '320cores', 'topo1', 'vary', 'none', 'dist', 'rr', 'unshuffled', 'sync', 'batch', '8', 'wait', '0', 'joblen', '0']\n"
     ]
    }
   ],
   "source": [
    "print(practice.split('/')[-1].split('-'))"
   ]
  },
  {
   "cell_type": "code",
   "execution_count": 12,
   "metadata": {},
   "outputs": [
    {
     "name": "stdout",
     "output_type": "stream",
     "text": [
      "8\n"
     ]
    }
   ],
   "source": [
    "print(practice.split('/')[-1].split('-')[11])"
   ]
  },
  {
   "cell_type": "code",
   "execution_count": 13,
   "metadata": {},
   "outputs": [
    {
     "name": "stdout",
     "output_type": "stream",
     "text": [
      "0\n"
     ]
    }
   ],
   "source": [
    "print(practice.split('/')[-1].split('-')[13])"
   ]
  },
  {
   "cell_type": "code",
   "execution_count": 14,
   "metadata": {},
   "outputs": [
    {
     "name": "stdout",
     "output_type": "stream",
     "text": [
      "0\n"
     ]
    }
   ],
   "source": [
    "print(practice.split('/')[-1].split('-')[15])"
   ]
  },
  {
   "cell_type": "code",
   "execution_count": 15,
   "metadata": {},
   "outputs": [],
   "source": [
    "import pandas as pd"
   ]
  },
  {
   "cell_type": "code",
   "execution_count": 18,
   "metadata": {},
   "outputs": [
    {
     "data": {
      "text/html": [
       "<div>\n",
       "<style scoped>\n",
       "    .dataframe tbody tr th:only-of-type {\n",
       "        vertical-align: middle;\n",
       "    }\n",
       "\n",
       "    .dataframe tbody tr th {\n",
       "        vertical-align: top;\n",
       "    }\n",
       "\n",
       "    .dataframe thead th {\n",
       "        text-align: right;\n",
       "    }\n",
       "</style>\n",
       "<table border=\"1\" class=\"dataframe\">\n",
       "  <thead>\n",
       "    <tr style=\"text-align: right;\">\n",
       "      <th></th>\n",
       "      <th>nodes</th>\n",
       "      <th>cores</th>\n",
       "      <th>topo</th>\n",
       "      <th>batch_size</th>\n",
       "      <th>wait</th>\n",
       "      <th>joblen</th>\n",
       "      <th>data</th>\n",
       "    </tr>\n",
       "  </thead>\n",
       "  <tbody>\n",
       "  </tbody>\n",
       "</table>\n",
       "</div>"
      ],
      "text/plain": [
       "Empty DataFrame\n",
       "Columns: [nodes, cores, topo, batch_size, wait, joblen, data]\n",
       "Index: []"
      ]
     },
     "execution_count": 18,
     "metadata": {},
     "output_type": "execute_result"
    }
   ],
   "source": [
    "pd.DataFrame(columns=[\"nodes\", \"cores\", \"topo\", \"batch_size\", \"wait\", \"joblen\", \"data\"])"
   ]
  },
  {
   "cell_type": "code",
   "execution_count": null,
   "metadata": {},
   "outputs": [],
   "source": []
  }
 ],
 "metadata": {
  "kernelspec": {
   "display_name": "Python 3 (ipykernel)",
   "language": "python",
   "name": "python3"
  },
  "language_info": {
   "codemirror_mode": {
    "name": "ipython",
    "version": 3
   },
   "file_extension": ".py",
   "mimetype": "text/x-python",
   "name": "python",
   "nbconvert_exporter": "python",
   "pygments_lexer": "ipython3",
   "version": "3.9.13"
  }
 },
 "nbformat": 4,
 "nbformat_minor": 4
}
